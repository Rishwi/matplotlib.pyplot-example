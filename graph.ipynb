import matplotlib.pyplot as plt
import math as mt
n=int(input())
x=[];y=[]
for i in range(n+1): y.append(mt.factorial(i))
for i in range(n+1) : x.append(i)
plt.plot(x,y,'o--b')
#x, y are lists to plot on x and y axis. o represents circles, -- represents dashed line, b represents blue colour.
